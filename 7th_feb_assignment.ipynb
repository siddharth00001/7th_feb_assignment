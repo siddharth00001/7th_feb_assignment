{
 "cells": [
  {
   "cell_type": "markdown",
   "id": "64d19dfe-264e-42be-9d58-f6f21bc2c9ed",
   "metadata": {},
   "source": [
    "## Q1"
   ]
  },
  {
   "cell_type": "code",
   "execution_count": 1,
   "id": "c8d95762-9808-4871-8397-fff1b570d8ff",
   "metadata": {},
   "outputs": [],
   "source": [
    "def passCheck(password):\n",
    "    upperL=0\n",
    "    LowerL=0\n",
    "    digitL=0\n",
    "    specialL=0\n",
    "    if len(password) >= 10:\n",
    "        for x in password:\n",
    "            if x.isupper():\n",
    "                upperL+=1\n",
    "            elif x.islower():\n",
    "                LowerL+=1\n",
    "            elif x.isdigit():\n",
    "                digitL+=1\n",
    "            elif x in '[@_!#$%^&*()<>?/\\|}{~:]':\n",
    "                specialL+=1\n",
    "        if upperL >= 2 and LowerL >=2 and digitL >=1 and specialL>=3:\n",
    "            return \"Valid password\"\n",
    "        else:\n",
    "            return \"Invalid password\"\n",
    "    else:\n",
    "        return \"Invalid password\""
   ]
  },
  {
   "cell_type": "code",
   "execution_count": 2,
   "id": "7fe061e3-d4cf-4a86-8412-d9df65dcc42a",
   "metadata": {},
   "outputs": [
    {
     "data": {
      "text/plain": [
       "'Invalid password'"
      ]
     },
     "execution_count": 2,
     "metadata": {},
     "output_type": "execute_result"
    }
   ],
   "source": [
    "passCheck(\"vox@gemini234@%#\")"
   ]
  },
  {
   "cell_type": "markdown",
   "id": "7c2825b1-9903-4863-8506-64b7eafe2dbb",
   "metadata": {},
   "source": [
    "## Q2"
   ]
  },
  {
   "cell_type": "code",
   "execution_count": 3,
   "id": "8a6f8306-8ba5-41af-85ce-a7aaea9e20f6",
   "metadata": {},
   "outputs": [],
   "source": [
    "a = lambda x: x.startswith('s')"
   ]
  },
  {
   "cell_type": "code",
   "execution_count": 4,
   "id": "89a33346-5ead-4f7a-995c-3c7aaf4e2af5",
   "metadata": {},
   "outputs": [
    {
     "data": {
      "text/plain": [
       "True"
      ]
     },
     "execution_count": 4,
     "metadata": {},
     "output_type": "execute_result"
    }
   ],
   "source": [
    "a('siddharth')"
   ]
  },
  {
   "cell_type": "code",
   "execution_count": 5,
   "id": "4432fd0c-938e-487f-9c64-7dde999fb165",
   "metadata": {},
   "outputs": [],
   "source": [
    "a= lambda x : x.isnumeric()"
   ]
  },
  {
   "cell_type": "code",
   "execution_count": 6,
   "id": "ddeaa6bb-1e81-42e1-bc72-24dacd6454cd",
   "metadata": {},
   "outputs": [
    {
     "data": {
      "text/plain": [
       "True"
      ]
     },
     "execution_count": 6,
     "metadata": {},
     "output_type": "execute_result"
    }
   ],
   "source": [
    "a('981122827832')"
   ]
  },
  {
   "cell_type": "code",
   "execution_count": 7,
   "id": "08ec00c4-8fb8-424d-bb51-1503f99f423e",
   "metadata": {},
   "outputs": [
    {
     "data": {
      "text/plain": [
       "[('orange', 80), ('mango', 99), ('grapes', 1000)]"
      ]
     },
     "execution_count": 7,
     "metadata": {},
     "output_type": "execute_result"
    }
   ],
   "source": [
    "l = [(\"mango\",99),(\"orange\",80), (\"grapes\", 1000)]\n",
    "a = lambda x: x[1]\n",
    "sorted(l,key=a)"
   ]
  },
  {
   "cell_type": "code",
   "execution_count": 8,
   "id": "60cc872a-3c3d-4839-b40e-b862552b0cdb",
   "metadata": {},
   "outputs": [
    {
     "data": {
      "text/plain": [
       "[1, 4, 9, 16, 25, 36, 49, 64, 81, 100]"
      ]
     },
     "execution_count": 8,
     "metadata": {},
     "output_type": "execute_result"
    }
   ],
   "source": [
    "a = list(range(1,11))\n",
    "list(map(lambda x:x**2,a))"
   ]
  },
  {
   "cell_type": "code",
   "execution_count": 9,
   "id": "266c013d-4d2f-4fe6-98b2-04430f6e6b3d",
   "metadata": {},
   "outputs": [
    {
     "data": {
      "text/plain": [
       "[1, 8, 27, 64, 125, 216, 343, 512, 729, 1000]"
      ]
     },
     "execution_count": 9,
     "metadata": {},
     "output_type": "execute_result"
    }
   ],
   "source": [
    "a = list(range(1,11))\n",
    "list(map(lambda x:x**3,a))"
   ]
  },
  {
   "cell_type": "code",
   "execution_count": 10,
   "id": "8c58eb15-befc-40cb-8539-f389f1ff786a",
   "metadata": {},
   "outputs": [
    {
     "data": {
      "text/plain": [
       "[2, 4, 6, 8, 10]"
      ]
     },
     "execution_count": 10,
     "metadata": {},
     "output_type": "execute_result"
    }
   ],
   "source": [
    "[x for x in a if x %2==0]"
   ]
  },
  {
   "cell_type": "code",
   "execution_count": 11,
   "id": "ee0598a1-b5bc-4a9d-a39b-eafbaff13dc3",
   "metadata": {},
   "outputs": [
    {
     "data": {
      "text/plain": [
       "[1, 3, 5, 7, 9]"
      ]
     },
     "execution_count": 11,
     "metadata": {},
     "output_type": "execute_result"
    }
   ],
   "source": [
    "a = [1,2,3,4,5,6,7,8,9,10]\n",
    "list(filter(lambda x: x%2!=0,a))"
   ]
  },
  {
   "cell_type": "code",
   "execution_count": 12,
   "id": "6731feaf-d381-406b-99fb-5d75a69e17e1",
   "metadata": {},
   "outputs": [],
   "source": [
    "x = [1,2,3,4,5,6,-1,-2,-3,-4,-5,0]\n",
    "Positive_list = sorted(list(filter(lambda x : x >=0,x)))\n",
    "negative_list = sorted(list(filter(lambda x: x<=0,x)))"
   ]
  },
  {
   "cell_type": "code",
   "execution_count": 13,
   "id": "ff8d00d4-f3dd-4d99-859c-0c2f5ea15e25",
   "metadata": {},
   "outputs": [
    {
     "data": {
      "text/plain": [
       "[0, 1, 2, 3, 4, 5, 6]"
      ]
     },
     "execution_count": 13,
     "metadata": {},
     "output_type": "execute_result"
    }
   ],
   "source": [
    "Positive_list"
   ]
  },
  {
   "cell_type": "code",
   "execution_count": 14,
   "id": "1045ea1b-104e-4206-9655-4c4706ee8631",
   "metadata": {},
   "outputs": [
    {
     "data": {
      "text/plain": [
       "[-5, -4, -3, -2, -1, 0]"
      ]
     },
     "execution_count": 14,
     "metadata": {},
     "output_type": "execute_result"
    }
   ],
   "source": [
    "negative_list"
   ]
  },
  {
   "cell_type": "code",
   "execution_count": null,
   "id": "aaf71097-1b85-489e-b257-5908d09462ef",
   "metadata": {},
   "outputs": [],
   "source": []
  }
 ],
 "metadata": {
  "kernelspec": {
   "display_name": "Python 3 (ipykernel)",
   "language": "python",
   "name": "python3"
  },
  "language_info": {
   "codemirror_mode": {
    "name": "ipython",
    "version": 3
   },
   "file_extension": ".py",
   "mimetype": "text/x-python",
   "name": "python",
   "nbconvert_exporter": "python",
   "pygments_lexer": "ipython3",
   "version": "3.10.8"
  }
 },
 "nbformat": 4,
 "nbformat_minor": 5
}
